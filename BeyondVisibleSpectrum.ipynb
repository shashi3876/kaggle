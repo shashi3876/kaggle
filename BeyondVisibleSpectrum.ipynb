{
  "nbformat": 4,
  "nbformat_minor": 0,
  "metadata": {
    "colab": {
      "provenance": [],
      "authorship_tag": "ABX9TyOW7ZESaO684Uve7xiS01fa",
      "include_colab_link": true
    },
    "kernelspec": {
      "name": "python3",
      "display_name": "Python 3"
    },
    "language_info": {
      "name": "python"
    }
  },
  "cells": [
    {
      "cell_type": "markdown",
      "metadata": {
        "id": "view-in-github",
        "colab_type": "text"
      },
      "source": [
        "<a href=\"https://colab.research.google.com/github/shashi3876/kaggle/blob/main/BeyondVisibleSpectrum.ipynb\" target=\"_parent\"><img src=\"https://colab.research.google.com/assets/colab-badge.svg\" alt=\"Open In Colab\"/></a>"
      ]
    },
    {
      "cell_type": "code",
      "execution_count": 1,
      "metadata": {
        "id": "NxwQF3SviZjI"
      },
      "outputs": [],
      "source": [
        "import pandas as pd\n",
        "import numpy as np\n",
        "import glob\n",
        "import os"
      ]
    },
    {
      "cell_type": "code",
      "source": [
        "folder = 'ot/ot/'\n",
        "npy_data = {}\n",
        "\n",
        "# Loop through all .npy files\n",
        "for filepath in glob.glob(os.path.join(folder, '*.npy')):\n",
        "    key = os.path.splitext(os.path.basename(filepath))[0]\n",
        "    try:\n",
        "        npy_data[key] = np.load(filepath)\n",
        "    except Exception as e:\n",
        "        print(f\"Skipping {key} due to error: {e}\")\n",
        "\n",
        "# Optional: preview keys\n",
        "print(npy_data.keys())\n"
      ],
      "metadata": {
        "id": "I67stf_0iq2Z"
      },
      "execution_count": null,
      "outputs": []
    },
    {
      "cell_type": "code",
      "source": [
        "expected_shape = (128, 128, 125)\n",
        "\n",
        "for key, arr in npy_data.items():\n",
        "    if arr.shape != expected_shape:\n",
        "        print(f\"File: {key}.npy --> Shape: {arr.shape}\")"
      ],
      "metadata": {
        "id": "_vsqo24sZamI"
      },
      "execution_count": null,
      "outputs": []
    },
    {
      "cell_type": "markdown",
      "source": [],
      "metadata": {
        "id": "vmiTGlnGZhHc"
      }
    },
    {
      "cell_type": "code",
      "source": [],
      "metadata": {
        "id": "bmiYz7kSZdWu"
      },
      "execution_count": null,
      "outputs": []
    }
  ]
}